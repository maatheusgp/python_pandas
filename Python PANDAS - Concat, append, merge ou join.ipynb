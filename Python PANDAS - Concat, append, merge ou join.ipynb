{
 "cells": [
  {
   "cell_type": "code",
   "execution_count": 2,
   "id": "quantitative-standard",
   "metadata": {},
   "outputs": [],
   "source": [
    "#Join: une colunas\n",
    "#Merge: une colunas\n",
    "#Concat: une linhas e colunas\n",
    "#Append: une linhas"
   ]
  },
  {
   "cell_type": "code",
   "execution_count": 3,
   "id": "latest-mayor",
   "metadata": {},
   "outputs": [],
   "source": [
    "#Concat: Index <-> Index\n",
    "\n",
    "#Join: Index <-> Index | Index <-> Coluna\n",
    "\n",
    "#Merge: Index <-> Index | Index <-> Coluna | Coluna <-> Index | Coluna <-> Coluna"
   ]
  }
 ],
 "metadata": {
  "kernelspec": {
   "display_name": "Python 3",
   "language": "python",
   "name": "python3"
  },
  "language_info": {
   "codemirror_mode": {
    "name": "ipython",
    "version": 3
   },
   "file_extension": ".py",
   "mimetype": "text/x-python",
   "name": "python",
   "nbconvert_exporter": "python",
   "pygments_lexer": "ipython3",
   "version": "3.8.3"
  }
 },
 "nbformat": 4,
 "nbformat_minor": 5
}
