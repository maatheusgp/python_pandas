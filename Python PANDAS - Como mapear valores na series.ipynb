{
 "cells": [
  {
   "cell_type": "code",
   "execution_count": 2,
   "id": "serial-railway",
   "metadata": {},
   "outputs": [],
   "source": [
    "import pandas as pd\n",
    "import numpy as np"
   ]
  },
  {
   "cell_type": "code",
   "execution_count": 3,
   "id": "exotic-royalty",
   "metadata": {},
   "outputs": [
    {
     "data": {
      "text/html": [
       "<div>\n",
       "<style scoped>\n",
       "    .dataframe tbody tr th:only-of-type {\n",
       "        vertical-align: middle;\n",
       "    }\n",
       "\n",
       "    .dataframe tbody tr th {\n",
       "        vertical-align: top;\n",
       "    }\n",
       "\n",
       "    .dataframe thead th {\n",
       "        text-align: right;\n",
       "    }\n",
       "</style>\n",
       "<table border=\"1\" class=\"dataframe\">\n",
       "  <thead>\n",
       "    <tr style=\"text-align: right;\">\n",
       "      <th></th>\n",
       "      <th>NR_TURNO</th>\n",
       "      <th>SG_UF</th>\n",
       "      <th>SG_UE</th>\n",
       "      <th>DS_CARGO</th>\n",
       "      <th>QT_VOTOS_NOMINAIS</th>\n",
       "      <th>QT_VOTOS_LEGENDA</th>\n",
       "    </tr>\n",
       "  </thead>\n",
       "  <tbody>\n",
       "    <tr>\n",
       "      <th>0</th>\n",
       "      <td>1</td>\n",
       "      <td>AC</td>\n",
       "      <td>1120</td>\n",
       "      <td>Prefeito</td>\n",
       "      <td>175</td>\n",
       "      <td>0</td>\n",
       "    </tr>\n",
       "    <tr>\n",
       "      <th>1</th>\n",
       "      <td>1</td>\n",
       "      <td>AC</td>\n",
       "      <td>1120</td>\n",
       "      <td>Vereador</td>\n",
       "      <td>152</td>\n",
       "      <td>22</td>\n",
       "    </tr>\n",
       "    <tr>\n",
       "      <th>2</th>\n",
       "      <td>1</td>\n",
       "      <td>AC</td>\n",
       "      <td>1120</td>\n",
       "      <td>Prefeito</td>\n",
       "      <td>168</td>\n",
       "      <td>0</td>\n",
       "    </tr>\n",
       "    <tr>\n",
       "      <th>3</th>\n",
       "      <td>1</td>\n",
       "      <td>AC</td>\n",
       "      <td>1120</td>\n",
       "      <td>Vereador</td>\n",
       "      <td>156</td>\n",
       "      <td>19</td>\n",
       "    </tr>\n",
       "    <tr>\n",
       "      <th>4</th>\n",
       "      <td>1</td>\n",
       "      <td>AC</td>\n",
       "      <td>1120</td>\n",
       "      <td>Prefeito</td>\n",
       "      <td>215</td>\n",
       "      <td>0</td>\n",
       "    </tr>\n",
       "    <tr>\n",
       "      <th>...</th>\n",
       "      <td>...</td>\n",
       "      <td>...</td>\n",
       "      <td>...</td>\n",
       "      <td>...</td>\n",
       "      <td>...</td>\n",
       "      <td>...</td>\n",
       "    </tr>\n",
       "    <tr>\n",
       "      <th>956450</th>\n",
       "      <td>2</td>\n",
       "      <td>SP</td>\n",
       "      <td>70750</td>\n",
       "      <td>Prefeito</td>\n",
       "      <td>268</td>\n",
       "      <td>0</td>\n",
       "    </tr>\n",
       "    <tr>\n",
       "      <th>956451</th>\n",
       "      <td>2</td>\n",
       "      <td>SP</td>\n",
       "      <td>70750</td>\n",
       "      <td>Prefeito</td>\n",
       "      <td>221</td>\n",
       "      <td>0</td>\n",
       "    </tr>\n",
       "    <tr>\n",
       "      <th>956452</th>\n",
       "      <td>2</td>\n",
       "      <td>SP</td>\n",
       "      <td>70750</td>\n",
       "      <td>Prefeito</td>\n",
       "      <td>137</td>\n",
       "      <td>0</td>\n",
       "    </tr>\n",
       "    <tr>\n",
       "      <th>956453</th>\n",
       "      <td>2</td>\n",
       "      <td>SP</td>\n",
       "      <td>70750</td>\n",
       "      <td>Prefeito</td>\n",
       "      <td>107</td>\n",
       "      <td>0</td>\n",
       "    </tr>\n",
       "    <tr>\n",
       "      <th>956454</th>\n",
       "      <td>2</td>\n",
       "      <td>SP</td>\n",
       "      <td>70750</td>\n",
       "      <td>Prefeito</td>\n",
       "      <td>41</td>\n",
       "      <td>0</td>\n",
       "    </tr>\n",
       "  </tbody>\n",
       "</table>\n",
       "<p>956455 rows × 6 columns</p>\n",
       "</div>"
      ],
      "text/plain": [
       "        NR_TURNO SG_UF  SG_UE  DS_CARGO  QT_VOTOS_NOMINAIS  QT_VOTOS_LEGENDA\n",
       "0              1    AC   1120  Prefeito                175                 0\n",
       "1              1    AC   1120  Vereador                152                22\n",
       "2              1    AC   1120  Prefeito                168                 0\n",
       "3              1    AC   1120  Vereador                156                19\n",
       "4              1    AC   1120  Prefeito                215                 0\n",
       "...          ...   ...    ...       ...                ...               ...\n",
       "956450         2    SP  70750  Prefeito                268                 0\n",
       "956451         2    SP  70750  Prefeito                221                 0\n",
       "956452         2    SP  70750  Prefeito                137                 0\n",
       "956453         2    SP  70750  Prefeito                107                 0\n",
       "956454         2    SP  70750  Prefeito                 41                 0\n",
       "\n",
       "[956455 rows x 6 columns]"
      ]
     },
     "execution_count": 3,
     "metadata": {},
     "output_type": "execute_result"
    }
   ],
   "source": [
    "df = pd.read_csv('detalhe_votacao_secao_2016_BRASIL.csv', encoding='ISO-8859-1', sep=';')\n",
    "df"
   ]
  },
  {
   "cell_type": "code",
   "execution_count": 4,
   "id": "chinese-ivory",
   "metadata": {},
   "outputs": [
    {
     "data": {
      "text/plain": [
       "0           0\n",
       "1         484\n",
       "2           0\n",
       "3         361\n",
       "4           0\n",
       "         ... \n",
       "956450      0\n",
       "956451      0\n",
       "956452      0\n",
       "956453      0\n",
       "956454      0\n",
       "Name: QT_VOTOS_LEGENDA, Length: 956455, dtype: int64"
      ]
     },
     "execution_count": 4,
     "metadata": {},
     "output_type": "execute_result"
    }
   ],
   "source": [
    "#Aplicando uma função na series\n",
    "df['QT_VOTOS_LEGENDA'].map(np.square)"
   ]
  },
  {
   "cell_type": "code",
   "execution_count": 5,
   "id": "upper-pavilion",
   "metadata": {},
   "outputs": [
    {
     "data": {
      "text/plain": [
       "0         cargo : Prefeito\n",
       "1         cargo : Vereador\n",
       "2         cargo : Prefeito\n",
       "3         cargo : Vereador\n",
       "4         cargo : Prefeito\n",
       "                ...       \n",
       "956450    cargo : Prefeito\n",
       "956451    cargo : Prefeito\n",
       "956452    cargo : Prefeito\n",
       "956453    cargo : Prefeito\n",
       "956454    cargo : Prefeito\n",
       "Name: DS_CARGO, Length: 956455, dtype: object"
      ]
     },
     "execution_count": 5,
     "metadata": {},
     "output_type": "execute_result"
    }
   ],
   "source": [
    "#Adicionando informações nos valores da series\n",
    "df['DS_CARGO'].map('cargo : {}'.format)"
   ]
  },
  {
   "cell_type": "code",
   "execution_count": 6,
   "id": "european-handle",
   "metadata": {},
   "outputs": [
    {
     "data": {
      "text/plain": [
       "0         teste\n",
       "1           NaN\n",
       "2         teste\n",
       "3           NaN\n",
       "4         teste\n",
       "          ...  \n",
       "956450    teste\n",
       "956451    teste\n",
       "956452    teste\n",
       "956453    teste\n",
       "956454    teste\n",
       "Name: DS_CARGO, Length: 956455, dtype: object"
      ]
     },
     "execution_count": 6,
     "metadata": {},
     "output_type": "execute_result"
    }
   ],
   "source": [
    "#Substituíndo valores\n",
    "df['DS_CARGO'].map({'Prefeito' : 'teste'})"
   ]
  },
  {
   "cell_type": "code",
   "execution_count": 7,
   "id": "aerial-carnival",
   "metadata": {},
   "outputs": [
    {
     "data": {
      "text/plain": [
       "0         teste\n",
       "1            oi\n",
       "2         teste\n",
       "3            oi\n",
       "4         teste\n",
       "          ...  \n",
       "956450    teste\n",
       "956451    teste\n",
       "956452    teste\n",
       "956453    teste\n",
       "956454    teste\n",
       "Name: DS_CARGO, Length: 956455, dtype: object"
      ]
     },
     "execution_count": 7,
     "metadata": {},
     "output_type": "execute_result"
    }
   ],
   "source": [
    "df['DS_CARGO'].map({'Prefeito' : 'teste', 'Vereador': 'oi'})"
   ]
  }
 ],
 "metadata": {
  "kernelspec": {
   "display_name": "Python 3",
   "language": "python",
   "name": "python3"
  },
  "language_info": {
   "codemirror_mode": {
    "name": "ipython",
    "version": 3
   },
   "file_extension": ".py",
   "mimetype": "text/x-python",
   "name": "python",
   "nbconvert_exporter": "python",
   "pygments_lexer": "ipython3",
   "version": "3.8.3"
  }
 },
 "nbformat": 4,
 "nbformat_minor": 5
}
