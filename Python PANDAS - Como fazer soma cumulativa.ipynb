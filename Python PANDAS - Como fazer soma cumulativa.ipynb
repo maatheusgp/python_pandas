{
 "cells": [
  {
   "cell_type": "code",
   "execution_count": 1,
   "id": "duplicate-richardson",
   "metadata": {},
   "outputs": [],
   "source": [
    "import pandas as pd\n",
    "import numpy as np"
   ]
  },
  {
   "cell_type": "code",
   "execution_count": 2,
   "id": "modern-authority",
   "metadata": {},
   "outputs": [
    {
     "data": {
      "text/html": [
       "<div>\n",
       "<style scoped>\n",
       "    .dataframe tbody tr th:only-of-type {\n",
       "        vertical-align: middle;\n",
       "    }\n",
       "\n",
       "    .dataframe tbody tr th {\n",
       "        vertical-align: top;\n",
       "    }\n",
       "\n",
       "    .dataframe thead th {\n",
       "        text-align: right;\n",
       "    }\n",
       "</style>\n",
       "<table border=\"1\" class=\"dataframe\">\n",
       "  <thead>\n",
       "    <tr style=\"text-align: right;\">\n",
       "      <th></th>\n",
       "      <th>Data</th>\n",
       "      <th>Views do Blog</th>\n",
       "    </tr>\n",
       "  </thead>\n",
       "  <tbody>\n",
       "    <tr>\n",
       "      <th>0</th>\n",
       "      <td>2008-06-21</td>\n",
       "      <td>1740</td>\n",
       "    </tr>\n",
       "    <tr>\n",
       "      <th>1</th>\n",
       "      <td>2008-06-22</td>\n",
       "      <td>1585</td>\n",
       "    </tr>\n",
       "    <tr>\n",
       "      <th>2</th>\n",
       "      <td>2008-06-23</td>\n",
       "      <td>2302</td>\n",
       "    </tr>\n",
       "    <tr>\n",
       "      <th>3</th>\n",
       "      <td>2008-06-24</td>\n",
       "      <td>1990</td>\n",
       "    </tr>\n",
       "    <tr>\n",
       "      <th>4</th>\n",
       "      <td>2008-06-25</td>\n",
       "      <td>1813</td>\n",
       "    </tr>\n",
       "    <tr>\n",
       "      <th>5</th>\n",
       "      <td>2008-06-26</td>\n",
       "      <td>1705</td>\n",
       "    </tr>\n",
       "    <tr>\n",
       "      <th>6</th>\n",
       "      <td>2008-06-27</td>\n",
       "      <td>2247</td>\n",
       "    </tr>\n",
       "    <tr>\n",
       "      <th>7</th>\n",
       "      <td>2008-06-28</td>\n",
       "      <td>2068</td>\n",
       "    </tr>\n",
       "    <tr>\n",
       "      <th>8</th>\n",
       "      <td>2008-06-29</td>\n",
       "      <td>2038</td>\n",
       "    </tr>\n",
       "    <tr>\n",
       "      <th>9</th>\n",
       "      <td>2008-06-30</td>\n",
       "      <td>1953</td>\n",
       "    </tr>\n",
       "  </tbody>\n",
       "</table>\n",
       "</div>"
      ],
      "text/plain": [
       "        Data  Views do Blog\n",
       "0 2008-06-21           1740\n",
       "1 2008-06-22           1585\n",
       "2 2008-06-23           2302\n",
       "3 2008-06-24           1990\n",
       "4 2008-06-25           1813\n",
       "5 2008-06-26           1705\n",
       "6 2008-06-27           2247\n",
       "7 2008-06-28           2068\n",
       "8 2008-06-29           2038\n",
       "9 2008-06-30           1953"
      ]
     },
     "execution_count": 2,
     "metadata": {},
     "output_type": "execute_result"
    }
   ],
   "source": [
    "df = pd.read_excel('Arquivo3.xlsx')\n",
    "df"
   ]
  },
  {
   "cell_type": "code",
   "execution_count": 4,
   "id": "concerned-stroke",
   "metadata": {},
   "outputs": [
    {
     "data": {
      "text/plain": [
       "0     1740\n",
       "1     3325\n",
       "2     5627\n",
       "3     7617\n",
       "4     9430\n",
       "5    11135\n",
       "6    13382\n",
       "7    15450\n",
       "8    17488\n",
       "9    19441\n",
       "Name: Views do Blog, dtype: int64"
      ]
     },
     "execution_count": 4,
     "metadata": {},
     "output_type": "execute_result"
    }
   ],
   "source": [
    "#Mostra a soma acumulativa linha 0 + 1 e sucessivamente\n",
    "df['Views do Blog'].cumsum().head(10)"
   ]
  },
  {
   "cell_type": "code",
   "execution_count": null,
   "id": "starting-danish",
   "metadata": {},
   "outputs": [],
   "source": [
    "df.loc[3] = ['2008-06-24', np.nan]"
   ]
  },
  {
   "cell_type": "code",
   "execution_count": null,
   "id": "variable-singer",
   "metadata": {},
   "outputs": [],
   "source": [
    "df['Views do Blog'].cumsum(skipna=False).head(10)"
   ]
  },
  {
   "cell_type": "code",
   "execution_count": null,
   "id": "respiratory-onion",
   "metadata": {},
   "outputs": [],
   "source": [
    "df['Views do Blog'].cumsum(skipna=True).head(10)"
   ]
  },
  {
   "cell_type": "code",
   "execution_count": null,
   "id": "accepting-unknown",
   "metadata": {},
   "outputs": [],
   "source": [
    "df['Views do Blog'].cummax().head(10)"
   ]
  },
  {
   "cell_type": "code",
   "execution_count": 5,
   "id": "mobile-joyce",
   "metadata": {},
   "outputs": [
    {
     "data": {
      "text/plain": [
       "0    1740\n",
       "1    1740\n",
       "2    2302\n",
       "3    2302\n",
       "4    2302\n",
       "5    2302\n",
       "6    2302\n",
       "7    2302\n",
       "8    2302\n",
       "9    2302\n",
       "Name: Views do Blog, dtype: int64"
      ]
     },
     "execution_count": 5,
     "metadata": {},
     "output_type": "execute_result"
    }
   ],
   "source": [
    "#Retorna o aculmulativo do máximo\n",
    "df['Views do Blog'].cummax().head(10)"
   ]
  },
  {
   "cell_type": "code",
   "execution_count": 7,
   "id": "juvenile-gazette",
   "metadata": {},
   "outputs": [
    {
     "data": {
      "text/plain": [
       "0    1740\n",
       "1    1585\n",
       "2    1585\n",
       "3    1585\n",
       "4    1585\n",
       "5    1585\n",
       "6    1585\n",
       "7    1585\n",
       "8    1585\n",
       "9    1585\n",
       "Name: Views do Blog, dtype: int64"
      ]
     },
     "execution_count": 7,
     "metadata": {},
     "output_type": "execute_result"
    }
   ],
   "source": [
    "#Repete o valor até deixar de ser o menor\n",
    "df['Views do Blog'].cummin().head(10)"
   ]
  },
  {
   "cell_type": "code",
   "execution_count": 8,
   "id": "offensive-hazard",
   "metadata": {},
   "outputs": [
    {
     "data": {
      "text/plain": [
       "0                   1740\n",
       "1                2757900\n",
       "2             6348685800\n",
       "3         12633884742000\n",
       "4      22905233037246000\n",
       "5    2159934181085326768\n",
       "6    1878413513117172688\n",
       "7   -7703854426402272192\n",
       "8   -2276114281002302080\n",
       "9     414130966505977216\n",
       "Name: Views do Blog, dtype: int64"
      ]
     },
     "execution_count": 8,
     "metadata": {},
     "output_type": "execute_result"
    }
   ],
   "source": [
    "#Pega o valor da segunda linha linha e multiplica pelas anteriores\n",
    "df['Views do Blog'].cumprod().head(10)"
   ]
  }
 ],
 "metadata": {
  "kernelspec": {
   "display_name": "Python 3",
   "language": "python",
   "name": "python3"
  },
  "language_info": {
   "codemirror_mode": {
    "name": "ipython",
    "version": 3
   },
   "file_extension": ".py",
   "mimetype": "text/x-python",
   "name": "python",
   "nbconvert_exporter": "python",
   "pygments_lexer": "ipython3",
   "version": "3.8.3"
  }
 },
 "nbformat": 4,
 "nbformat_minor": 5
}
